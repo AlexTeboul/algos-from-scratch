{
  "nbformat": 4,
  "nbformat_minor": 0,
  "metadata": {
    "colab": {
      "name": "median.ipynb",
      "provenance": [],
      "authorship_tag": "ABX9TyOmVfGC6wr7rhDByXDqIs/v",
      "include_colab_link": true
    },
    "kernelspec": {
      "name": "python3",
      "display_name": "Python 3"
    },
    "language_info": {
      "name": "python"
    }
  },
  "cells": [
    {
      "cell_type": "markdown",
      "metadata": {
        "id": "view-in-github",
        "colab_type": "text"
      },
      "source": [
        "<a href=\"https://colab.research.google.com/github/AlexTeboul/algos-from-scratch/blob/main/median.ipynb\" target=\"_parent\"><img src=\"https://colab.research.google.com/assets/colab-badge.svg\" alt=\"Open In Colab\"/></a>"
      ]
    },
    {
      "cell_type": "markdown",
      "source": [
        "\n",
        "# median\n",
        "**About**\n",
        "* Compilation of median algorithms\n",
        "\n",
        "**Problem**\n",
        "* Find the median of an unsorted array\n",
        "\n",
        "**Resources**\n",
        "* See https://brilliant.org/wiki/median-finding-algorithm/ for more and code.\n",
        "* https://www.cs.virginia.edu/~jh2jf/courses/spring2019/cs4102/lectures/cs4102_L8.pdf\n",
        "* https://www.geeksforgeeks.org/median-of-an-unsorted-array-in-liner-time-on/"
      ],
      "metadata": {
        "id": "D55VWGIFJeQt"
      }
    },
    {
      "cell_type": "markdown",
      "source": [
        "## Naive Approach\n",
        "\n",
        "1. Sort an array arr[] in increasing order. n is len(arr)\n",
        "2. If number of elements in arr[] is odd, then median is arr[(n-1)/2]. \n",
        "3. If the number of elements in arr[] is even, median is average of arr[(n-1)/2] and arr[(n-1)/2+1]. \n",
        "* (n - 1) because indexing in python starts at 0"
      ],
      "metadata": {
        "id": "fJjNcH5bKRA1"
      }
    },
    {
      "cell_type": "code",
      "source": [
        "def median_naive(arr):\n",
        "  \"\"\" A function that returns the median of an unsorted array arr of length arr_len.\n",
        "  Algorithm:\n",
        "  * Sort an array arr[] in increasing order.\n",
        "  * If number of elements in arr[] is odd, then median is arr[n/2].\n",
        "  * If the number of elements in arr[] is even, median is average of arr[n/2] and arr[n/2+1].\n",
        "\n",
        "  Args:\n",
        "    arr (list): The list/array of integers to find the median of.\n",
        "\n",
        "  Returns:\n",
        "    int: The return median value.\n",
        "  \"\"\"\n",
        "  #sort the array\n",
        "  arr = sorted(arr)\n",
        "  #find the length of the array\n",
        "  arr_len = len(arr)\n",
        "  #get middle index\n",
        "  idx = (arr_len - 1) // 2 # Use -1 because of Python's indexing starting at 0\n",
        "\n",
        "  if arr_len % 2 > 0 :  # Odd\n",
        "    median_naive = arr[idx]\n",
        "  else:  # Even\n",
        "    median_naive = (arr[idx] + arr[idx + 1]) / 2\n",
        "  return median_naive"
      ],
      "metadata": {
        "id": "e-KtF7gSUnwE"
      },
      "execution_count": null,
      "outputs": []
    },
    {
      "cell_type": "code",
      "source": [
        "%%timeit\n",
        "z = [1, 2, 4, 8, 5, 6, 7, 3, 9, 10, 12, 24, 109, 12, 532, 3462, 123, 324, 23, 1, 3, 5, 9]\n",
        "median_naive(z)"
      ],
      "metadata": {
        "colab": {
          "base_uri": "https://localhost:8080/"
        },
        "id": "QLZYMK09Un2k",
        "outputId": "a9d1dc77-d2fd-453a-fb06-18800eeeee53"
      },
      "execution_count": null,
      "outputs": [
        {
          "output_type": "stream",
          "name": "stdout",
          "text": [
            "The slowest run took 8.79 times longer than the fastest. This could mean that an intermediate result is being cached.\n",
            "1000000 loops, best of 5: 1.16 µs per loop\n"
          ]
        }
      ]
    },
    {
      "cell_type": "code",
      "source": [
        "z = [1, 2, 4, 8, 5, 6, 7, 3, 9, 10, 12, 24, 109, 12, 532, 3462, 123, 324, 23, 1, 3, 5, 9]\n",
        "median_naive(z)"
      ],
      "metadata": {
        "colab": {
          "base_uri": "https://localhost:8080/"
        },
        "id": "vx4phiZIb5Zu",
        "outputId": "fbf83562-082d-457b-8f99-94cc442b2ce0"
      },
      "execution_count": 89,
      "outputs": [
        {
          "output_type": "execute_result",
          "data": {
            "text/plain": [
              "9"
            ]
          },
          "metadata": {},
          "execution_count": 89
        }
      ]
    },
    {
      "cell_type": "code",
      "source": [
        "y = [1, 2, 3, 4, 5, 6]\n",
        "median_naive(y)"
      ],
      "metadata": {
        "colab": {
          "base_uri": "https://localhost:8080/"
        },
        "id": "1lYvU-ujUn8d",
        "outputId": "317c6f46-cb99-4f54-f0f4-4330dc783716"
      },
      "execution_count": 90,
      "outputs": [
        {
          "output_type": "execute_result",
          "data": {
            "text/plain": [
              "3.5"
            ]
          },
          "metadata": {},
          "execution_count": 90
        }
      ]
    },
    {
      "cell_type": "markdown",
      "source": [
        "## QuickSelect Approach\n",
        "\n",
        "More Efficient\n",
        "\n",
        "1. Randomly pick pivot element from arr[] and the using the partition step from the quick sort algorithm arrange all the elements smaller than the pivot on its left and the elements greater than it on its right.\n",
        "2. If after the previous step, the position of the chosen pivot is the middle of the array then it is the required median of the given array.\n",
        "3. If the position is before the middle element then repeat the step for the subarray starting from previous starting index and the chosen pivot as the ending index.\n",
        "4. If the position is after the middle element then repeat the step for the subarray starting from the chosen pivot and ending at the previous ending index.\n",
        "5. Note that in case of even number of elements, the middle two elements have to be found and their average will be the median of the array."
      ],
      "metadata": {
        "id": "UueuxlMsUoED"
      }
    },
    {
      "cell_type": "code",
      "source": [
        "# Python3 program to find median of\n",
        "# an array\n",
        "import random\n",
        " \n",
        "a, b = None, None;\n",
        "\n",
        "# 1 ---------------------------------\n",
        "def partition(arr, left, right):\n",
        "  \"\"\"Returns the correct position of the pivot element.\n",
        "  Args:\n",
        "    arr (list/array): The list/array of integers\n",
        "    left (int): The left partition\n",
        "    right (int): The right partition\n",
        "\n",
        "  Returns:\n",
        "    i (int): The index position of the pivot element\n",
        "  \"\"\"\n",
        "  #lst = arr[right]; i = left; j = left;\n",
        "  select_list = arr[right]\n",
        "  i, j = left, left\n",
        "  while (j < right) :\n",
        "    if (arr[j] < select_list) :\n",
        "      arr[i], arr[j] = arr[j], arr[i];\n",
        "      i += 1;     \n",
        "    j += 1;\n",
        "  arr[i], arr[right] = arr[right], arr[i];\n",
        "  return i;\n",
        " \n",
        "# 2. ---------------------------------\n",
        "def random_partition(arr, left, right):\n",
        "  \"\"\"Pick a random pivot element between the left and right partitions \n",
        "  arr[left..right] around the randomly picked element using partition()\n",
        "  Args:\n",
        "    arr (list/array): The list/array of integers\n",
        "    left (int): The left partition\n",
        "    right (int): The right partition\n",
        "\n",
        "  Return:\n",
        "    partition_random (int): The partition index from calling partition()\n",
        "  \"\"\"\n",
        "  n = right - left + 1;\n",
        "  pivot = random.randrange(1, 100) % n;\n",
        "  arr[left + pivot], arr[right] = arr[right], arr[left + pivot]\n",
        "  partition_random = partition(arr, left, right)\n",
        "  return partition_random\n",
        " \n",
        "#3. ---------------------------------\n",
        "def median_helper(arr, left, right, k, a1, b1) :\n",
        "  \"\"\"Helper function to get the median. Recursively apply partition function.\n",
        "  Args:\n",
        "    arr (list/array): \n",
        "    left (int): The left partition\n",
        "    right (int): The right partition\n",
        "    k (int): partition_idx tracker\n",
        "    a1 (int): element of array\n",
        "    b1 (int): element of array\n",
        "  Return:\n",
        "    recursively apply function to update a and b\n",
        "  Helper Functions:\n",
        "    random_partition()\n",
        "  \n",
        "  \"\"\"\n",
        "  global a, b\n",
        "     \n",
        "  # if left < rright\n",
        "  if (left <= right) :\n",
        "    # Find the partition index\n",
        "    partition_idx = random_partition(arr, left, right)\n",
        "         \n",
        "    # If partition index = k, then we found the median of odd number element in arr[]\n",
        "    if (partition_idx == k):\n",
        "      b = arr[partition_idx]\n",
        "      if (a1 != -1):\n",
        "        return \n",
        "    # If index = k - 1, then we get a & b as middle element of arr[]\n",
        "    elif (partition_idx == k - 1):\n",
        "        a = arr[partition_idx]\n",
        "        if (b1 != -1):\n",
        "          return;      \n",
        "    # If partition_idx >= k then find the index in first half of the arr[]\n",
        "    if (partition_idx >= k):\n",
        "      return median_helper(arr, left, partition_idx - 1, k, a, b)   \n",
        "    # If partition_idx <= k then find the index in second half of the arr[]\n",
        "    else:\n",
        "      return median_helper(arr, partition_idx + 1, right, k, a, b)      \n",
        "  return\n",
        " \n",
        "#4. ---------------------------------\n",
        "def quick_median(arr):\n",
        "  \"\"\"Efficiently find the median of an array arr. \n",
        "  Args:\n",
        "    arr (list/array): array of size n integers\n",
        "  Return:\n",
        "    median (float): The median of the array arr\n",
        "\n",
        "  Helper Functions:\n",
        "    median_helper()\n",
        "    random_partition()\n",
        "    partition()\n",
        "  \"\"\"\n",
        "  global a\n",
        "  global b\n",
        "  a = -1\n",
        "  b = -1\n",
        "  n = len(arr)\n",
        "  # If n is odd\n",
        "  if n % 2 > 0 :\n",
        "    median_helper(arr, 0, n - 1, n // 2, a, b)\n",
        "    median = b\n",
        "  # If n is even\n",
        "  else :\n",
        "    median_helper(arr, 0, n - 1, n // 2, a, b)\n",
        "    median = (a + b) / 2      \n",
        "  return median\n",
        "\n",
        "# This code is based on code by AnkitRai01 but modified here."
      ],
      "metadata": {
        "id": "FEybdkO1b_mW"
      },
      "execution_count": 80,
      "outputs": []
    },
    {
      "cell_type": "code",
      "source": [
        "%%timeit\n",
        "z = [1, 2, 4, 8, 5, 6, 7, 3, 9, 10, 12, 24, 109, 12, 532, 3462, 123, 324, 23, 1, 3, 5, 9]\n",
        "quick_median(z)"
      ],
      "metadata": {
        "colab": {
          "base_uri": "https://localhost:8080/"
        },
        "id": "NhhzSDw0pik5",
        "outputId": "2e953bce-fc5c-44b7-dc62-66ea67fc9d94"
      },
      "execution_count": 81,
      "outputs": [
        {
          "output_type": "stream",
          "name": "stdout",
          "text": [
            "10000 loops, best of 5: 25.8 µs per loop\n"
          ]
        }
      ]
    },
    {
      "cell_type": "code",
      "source": [
        "z = [1, 2, 4, 8, 5, 6, 7, 3, 9, 10, 12, 24, 109, 12, 532, 3462, 123, 324, 23, 1, 3, 5, 9]\n",
        "quick_median(z)"
      ],
      "metadata": {
        "colab": {
          "base_uri": "https://localhost:8080/"
        },
        "id": "Fa0pLyeo0LSk",
        "outputId": "35b5535a-5971-4356-c567-c017d3574e25"
      },
      "execution_count": 86,
      "outputs": [
        {
          "output_type": "execute_result",
          "data": {
            "text/plain": [
              "9"
            ]
          },
          "metadata": {},
          "execution_count": 86
        }
      ]
    },
    {
      "cell_type": "code",
      "source": [
        "y = [1, 2, 3, 4, 5, 6]\n",
        "quick_median(y)"
      ],
      "metadata": {
        "colab": {
          "base_uri": "https://localhost:8080/"
        },
        "id": "T9ieTSNypmE9",
        "outputId": "562794ce-831e-4dfb-d112-6cedc44d949e"
      },
      "execution_count": 88,
      "outputs": [
        {
          "output_type": "execute_result",
          "data": {
            "text/plain": [
              "3.5"
            ]
          },
          "metadata": {},
          "execution_count": 88
        }
      ]
    },
    {
      "cell_type": "markdown",
      "source": [
        "## Double check with numpy.median()"
      ],
      "metadata": {
        "id": "LXJqKuNp1qEM"
      }
    },
    {
      "cell_type": "code",
      "source": [
        "import numpy as np\n",
        "\n",
        "print(\"np.median(z): \",np.median(z))\n",
        "print(\"np.median(y): \",np.median(y))"
      ],
      "metadata": {
        "colab": {
          "base_uri": "https://localhost:8080/"
        },
        "id": "wEPimzOo1P_K",
        "outputId": "71943935-d15e-4203-953a-1f1ff24be2a3"
      },
      "execution_count": 94,
      "outputs": [
        {
          "output_type": "stream",
          "name": "stdout",
          "text": [
            "np.median(z):  9.0\n",
            "np.median(y):  3.5\n"
          ]
        }
      ]
    }
  ]
}